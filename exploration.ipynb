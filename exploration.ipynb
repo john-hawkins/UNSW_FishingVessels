{
 "cells": [
  {
   "cell_type": "code",
   "execution_count": 1,
   "id": "56e157f6",
   "metadata": {},
   "outputs": [],
   "source": [
    "# LOAD ANY REQUIRED LIBRARIES\n",
    "\n",
    "import pandas as pd\n",
    "import numpy as np\n",
    "from datetime import datetime"
   ]
  },
  {
   "cell_type": "code",
   "execution_count": 2,
   "id": "001e4f45",
   "metadata": {},
   "outputs": [],
   "source": [
    "# SETUP A PATH TO THE DATA\n",
    "\n",
    "data_path = \"./data/drifting_longlines.csv\""
   ]
  },
  {
   "cell_type": "code",
   "execution_count": 3,
   "id": "4a71622e",
   "metadata": {},
   "outputs": [],
   "source": [
    "# LOAD THE DATA\n",
    "\n",
    "df_data = pd.read_csv(data_path)"
   ]
  },
  {
   "cell_type": "code",
   "execution_count": 7,
   "id": "e9cb0373",
   "metadata": {},
   "outputs": [
    {
     "data": {
      "text/html": [
       "<div>\n",
       "<style scoped>\n",
       "    .dataframe tbody tr th:only-of-type {\n",
       "        vertical-align: middle;\n",
       "    }\n",
       "\n",
       "    .dataframe tbody tr th {\n",
       "        vertical-align: top;\n",
       "    }\n",
       "\n",
       "    .dataframe thead th {\n",
       "        text-align: right;\n",
       "    }\n",
       "</style>\n",
       "<table border=\"1\" class=\"dataframe\">\n",
       "  <thead>\n",
       "    <tr style=\"text-align: right;\">\n",
       "      <th></th>\n",
       "      <th>vessel_num</th>\n",
       "      <th>timestamp</th>\n",
       "      <th>distance_from_shore</th>\n",
       "      <th>distance_from_port</th>\n",
       "      <th>speed</th>\n",
       "      <th>course</th>\n",
       "      <th>lat</th>\n",
       "      <th>lon</th>\n",
       "      <th>is_fishing</th>\n",
       "      <th>source</th>\n",
       "    </tr>\n",
       "  </thead>\n",
       "  <tbody>\n",
       "    <tr>\n",
       "      <th>0</th>\n",
       "      <td>1.260000e+13</td>\n",
       "      <td>1327136504</td>\n",
       "      <td>232994.2813</td>\n",
       "      <td>311748.6563</td>\n",
       "      <td>8.2</td>\n",
       "      <td>230.500000</td>\n",
       "      <td>14.865583</td>\n",
       "      <td>-26.853662</td>\n",
       "      <td>-1</td>\n",
       "      <td>dalhousie_longliner</td>\n",
       "    </tr>\n",
       "    <tr>\n",
       "      <th>1</th>\n",
       "      <td>1.260000e+13</td>\n",
       "      <td>1327136605</td>\n",
       "      <td>233994.2656</td>\n",
       "      <td>312410.3438</td>\n",
       "      <td>7.3</td>\n",
       "      <td>238.399994</td>\n",
       "      <td>14.863870</td>\n",
       "      <td>-26.856800</td>\n",
       "      <td>-1</td>\n",
       "      <td>dalhousie_longliner</td>\n",
       "    </tr>\n",
       "    <tr>\n",
       "      <th>2</th>\n",
       "      <td>1.260000e+13</td>\n",
       "      <td>1327136734</td>\n",
       "      <td>233994.2656</td>\n",
       "      <td>312410.3438</td>\n",
       "      <td>6.8</td>\n",
       "      <td>238.899994</td>\n",
       "      <td>14.861551</td>\n",
       "      <td>-26.860649</td>\n",
       "      <td>-1</td>\n",
       "      <td>dalhousie_longliner</td>\n",
       "    </tr>\n",
       "    <tr>\n",
       "      <th>3</th>\n",
       "      <td>1.260000e+13</td>\n",
       "      <td>1327143281</td>\n",
       "      <td>233994.2656</td>\n",
       "      <td>315417.3750</td>\n",
       "      <td>6.9</td>\n",
       "      <td>251.800003</td>\n",
       "      <td>14.822686</td>\n",
       "      <td>-26.865898</td>\n",
       "      <td>-1</td>\n",
       "      <td>dalhousie_longliner</td>\n",
       "    </tr>\n",
       "    <tr>\n",
       "      <th>4</th>\n",
       "      <td>1.260000e+13</td>\n",
       "      <td>1327143341</td>\n",
       "      <td>233996.3906</td>\n",
       "      <td>316172.5625</td>\n",
       "      <td>6.1</td>\n",
       "      <td>231.100006</td>\n",
       "      <td>14.821825</td>\n",
       "      <td>-26.867579</td>\n",
       "      <td>-1</td>\n",
       "      <td>dalhousie_longliner</td>\n",
       "    </tr>\n",
       "  </tbody>\n",
       "</table>\n",
       "</div>"
      ],
      "text/plain": [
       "     vessel_num   timestamp  distance_from_shore  distance_from_port  speed  \\\n",
       "0  1.260000e+13  1327136504          232994.2813         311748.6563    8.2   \n",
       "1  1.260000e+13  1327136605          233994.2656         312410.3438    7.3   \n",
       "2  1.260000e+13  1327136734          233994.2656         312410.3438    6.8   \n",
       "3  1.260000e+13  1327143281          233994.2656         315417.3750    6.9   \n",
       "4  1.260000e+13  1327143341          233996.3906         316172.5625    6.1   \n",
       "\n",
       "       course        lat        lon  is_fishing               source  \n",
       "0  230.500000  14.865583 -26.853662          -1  dalhousie_longliner  \n",
       "1  238.399994  14.863870 -26.856800          -1  dalhousie_longliner  \n",
       "2  238.899994  14.861551 -26.860649          -1  dalhousie_longliner  \n",
       "3  251.800003  14.822686 -26.865898          -1  dalhousie_longliner  \n",
       "4  231.100006  14.821825 -26.867579          -1  dalhousie_longliner  "
      ]
     },
     "execution_count": 7,
     "metadata": {},
     "output_type": "execute_result"
    }
   ],
   "source": [
    "# HAVE A LOOK AT THE DATA STRUCTURE\n",
    "\n",
    "df_data.head()"
   ]
  },
  {
   "cell_type": "markdown",
   "id": "814aa7e9",
   "metadata": {},
   "source": [
    "# Vessels\n",
    "Let's look at the number of distinct vessels and then the time span covered by the most common vessel."
   ]
  },
  {
   "cell_type": "code",
   "execution_count": 5,
   "id": "a67e91dc",
   "metadata": {},
   "outputs": [
    {
     "data": {
      "text/plain": [
       "2.380000e+13    236842\n",
       "1.180000e+14    225289\n",
       "5.140000e+13    146687\n",
       "8.130000e+13    100672\n",
       "2.150000e+14     92842\n",
       "7.720000e+13     84873\n",
       "1.040000e+14     74585\n",
       "2.570000e+14     43554\n",
       "2.810000e+14     18096\n",
       "1.680000e+14     13289\n",
       "1.260000e+13     11846\n",
       "Name: vessel_num, dtype: int64"
      ]
     },
     "execution_count": 5,
     "metadata": {},
     "output_type": "execute_result"
    }
   ],
   "source": [
    "df_data['vessel_num'].value_counts()"
   ]
  },
  {
   "cell_type": "markdown",
   "id": "05e61dc7",
   "metadata": {},
   "source": [
    "We only have 11 distinct vessels in this data (unless the identifiers get recycled)\n",
    "\n",
    "\n",
    "The most common Vessel (2.380000e+13) in the data appears 236,842 times\n",
    "\n",
    "\n",
    "It seems like this multiple trips. Lets look at the timestamps to validate this."
   ]
  },
  {
   "cell_type": "code",
   "execution_count": 6,
   "id": "70fd39f4",
   "metadata": {},
   "outputs": [
    {
     "name": "stdout",
     "output_type": "stream",
     "text": [
      "Vessel data between  2012-02-27 03:23:14  and  2016-11-25 10:59:22\n"
     ]
    }
   ],
   "source": [
    "\n",
    "df_temp = df_data[df_data['vessel_num']==2.380000e+13]\n",
    "latest = datetime.fromtimestamp(max(df_temp['timestamp']))\n",
    "oldest = datetime.fromtimestamp(min(df_temp['timestamp']))\n",
    "print(\"Vessel data between \", oldest, \" and \", latest )"
   ]
  },
  {
   "cell_type": "markdown",
   "id": "f1657d5c",
   "metadata": {},
   "source": [
    "Ok, so this has to be multiple trips, we need to work out how to break these into individual voyages?\n",
    "\n",
    "We may need to parse the data per vessel and look for long gaps between timestamps in order to generate a voyage identifier for each distinct trip made by that vessel."
   ]
  },
  {
   "cell_type": "code",
   "execution_count": null,
   "id": "6d71d8b6",
   "metadata": {},
   "outputs": [],
   "source": [
    "\n"
   ]
  }
 ],
 "metadata": {
  "kernelspec": {
   "display_name": "Python 3 (ipykernel)",
   "language": "python",
   "name": "python3"
  },
  "language_info": {
   "codemirror_mode": {
    "name": "ipython",
    "version": 3
   },
   "file_extension": ".py",
   "mimetype": "text/x-python",
   "name": "python",
   "nbconvert_exporter": "python",
   "pygments_lexer": "ipython3",
   "version": "3.9.12"
  }
 },
 "nbformat": 4,
 "nbformat_minor": 5
}
